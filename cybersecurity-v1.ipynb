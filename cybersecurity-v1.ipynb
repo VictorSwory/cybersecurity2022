{
  "nbformat": 4,
  "nbformat_minor": 0,
  "metadata": {
    "colab": {
      "name": "testecybersecurity1.ipynb",
      "provenance": [],
      "collapsed_sections": [],
      "authorship_tag": "ABX9TyO+p3wNcCd/jpp6Y+CBAlNw",
      "include_colab_link": true
    },
    "kernelspec": {
      "name": "python3",
      "display_name": "Python 3"
    },
    "language_info": {
      "name": "python"
    }
  },
  "cells": [
    {
      "cell_type": "markdown",
      "metadata": {
        "id": "view-in-github",
        "colab_type": "text"
      },
      "source": [
        "<a href=\"https://colab.research.google.com/github/VictorSwory/cybersecurity2022/blob/main/cybersecurity-v1.ipynb\" target=\"_parent\"><img src=\"https://colab.research.google.com/assets/colab-badge.svg\" alt=\"Open In Colab\"/></a>"
      ]
    },
    {
      "cell_type": "markdown",
      "source": [
        "**Identificação de Hack**"
      ],
      "metadata": {
        "id": "_SVtcVjhFD_P"
      }
    },
    {
      "cell_type": "code",
      "source": [
        "import re"
      ],
      "metadata": {
        "id": "SX-YIXIDFTlb"
      },
      "execution_count": null,
      "outputs": []
    },
    {
      "cell_type": "code",
      "source": [
        ""
      ],
      "metadata": {
        "id": "86U4zg4d1r5H"
      },
      "execution_count": null,
      "outputs": []
    },
    {
      "cell_type": "code",
      "source": [
        "lista = ['hack', 'cheat', 'roubar', 'h4ck', 'ch3at', 'hacker','h4ck3r']\n",
        "texto = input()\n",
        "\n",
        "if(texto in lista):\n",
        "  print('Hacker')\n",
        "else:\n",
        "  print('Não Hacker')\n",
        "\n",
        "\n",
        "\n"
      ],
      "metadata": {
        "id": "H-nbl7ZzHDJe",
        "colab": {
          "base_uri": "https://localhost:8080/"
        },
        "outputId": "17845109-1684-4cc7-ff36-befd4069b467"
      },
      "execution_count": null,
      "outputs": [
        {
          "output_type": "stream",
          "name": "stdout",
          "text": [
            "çasfnma\n",
            "Não Hacker\n"
          ]
        }
      ]
    },
    {
      "cell_type": "code",
      "source": [
        ""
      ],
      "metadata": {
        "id": "sqLl5vOX1sZP"
      },
      "execution_count": null,
      "outputs": []
    },
    {
      "cell_type": "code",
      "source": [
        "\n",
        "\n",
        "def getMatchRegex(field):\n",
        "  match = re.search('(?i)(hack)|(cheat)|(rouba)|(h4ck)|(ch3at)|(hacker)|(h4ck3er)', field.lower())\n",
        "  if match:\n",
        "      print('Hacker')\n",
        "  else:\n",
        "      print('Não Hacker')\n",
        "\n",
        "getMatchRegex(input())\n"
      ],
      "metadata": {
        "colab": {
          "base_uri": "https://localhost:8080/"
        },
        "id": "S1VTcTtg3i2Y",
        "outputId": "383e0cea-6172-4787-df71-bca348155566"
      },
      "execution_count": null,
      "outputs": [
        {
          "output_type": "stream",
          "name": "stdout",
          "text": [
            "NAKDNFK\n",
            "Não Hacker\n"
          ]
        }
      ]
    }
  ]
}