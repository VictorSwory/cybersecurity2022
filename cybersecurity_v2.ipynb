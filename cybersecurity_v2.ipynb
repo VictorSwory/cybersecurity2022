{
  "nbformat": 4,
  "nbformat_minor": 0,
  "metadata": {
    "colab": {
      "name": "cybersecurity_v2.ipynb",
      "provenance": [],
      "collapsed_sections": [],
      "authorship_tag": "ABX9TyMYrwxyqRWzetUOKyLBvxJ8",
      "include_colab_link": true
    },
    "kernelspec": {
      "name": "python3",
      "display_name": "Python 3"
    },
    "language_info": {
      "name": "python"
    }
  },
  "cells": [
    {
      "cell_type": "markdown",
      "metadata": {
        "id": "view-in-github",
        "colab_type": "text"
      },
      "source": [
        "<a href=\"https://colab.research.google.com/github/VictorSwory/cybersecurity2022/blob/main/cybersecurity_v2.ipynb\" target=\"_parent\"><img src=\"https://colab.research.google.com/assets/colab-badge.svg\" alt=\"Open In Colab\"/></a>"
      ]
    },
    {
      "cell_type": "code",
      "execution_count": 1,
      "metadata": {
        "colab": {
          "base_uri": "https://localhost:8080/"
        },
        "id": "Q8euGLdDKWDy",
        "outputId": "f7d59162-279e-4f9e-e500-a678d7f46c72"
      },
      "outputs": [
        {
          "output_type": "stream",
          "name": "stdout",
          "text": [
            "Collecting fuzzywuzzy[speedup]\n",
            "  Downloading fuzzywuzzy-0.18.0-py2.py3-none-any.whl (18 kB)\n",
            "Collecting python-levenshtein>=0.12\n",
            "  Downloading python-Levenshtein-0.12.2.tar.gz (50 kB)\n",
            "\u001b[?25l\r\u001b[K     |██████▌                         | 10 kB 24.3 MB/s eta 0:00:01\r\u001b[K     |█████████████                   | 20 kB 15.1 MB/s eta 0:00:01\r\u001b[K     |███████████████████▌            | 30 kB 13.0 MB/s eta 0:00:01\r\u001b[K     |██████████████████████████      | 40 kB 7.8 MB/s eta 0:00:01\r\u001b[K     |████████████████████████████████| 50 kB 4.6 MB/s \n",
            "\u001b[?25hRequirement already satisfied: setuptools in /usr/local/lib/python3.7/dist-packages (from python-levenshtein>=0.12->fuzzywuzzy[speedup]) (57.4.0)\n",
            "Building wheels for collected packages: python-levenshtein\n",
            "  Building wheel for python-levenshtein (setup.py) ... \u001b[?25l\u001b[?25hdone\n",
            "  Created wheel for python-levenshtein: filename=python_Levenshtein-0.12.2-cp37-cp37m-linux_x86_64.whl size=149876 sha256=fa9622b8e22606de157108730f989039a34b4fab957c19494892591a2548c1e3\n",
            "  Stored in directory: /root/.cache/pip/wheels/05/5f/ca/7c4367734892581bb5ff896f15027a932c551080b2abd3e00d\n",
            "Successfully built python-levenshtein\n",
            "Installing collected packages: python-levenshtein, fuzzywuzzy\n",
            "Successfully installed fuzzywuzzy-0.18.0 python-levenshtein-0.12.2\n"
          ]
        }
      ],
      "source": [
        "!pip install fuzzywuzzy[speedup]"
      ]
    },
    {
      "cell_type": "code",
      "source": [
        "from fuzzywuzzy import process"
      ],
      "metadata": {
        "id": "MHmdhg14K1yR"
      },
      "execution_count": 2,
      "outputs": []
    },
    {
      "cell_type": "code",
      "source": [
        "lista = ['hack', 'cheat', 'roubar', 'h4ck', 'ch3at', 'hacker','h4ck3r']\n",
        "texto = input()\n",
        "\n",
        "process.extract(texto, lista)"
      ],
      "metadata": {
        "colab": {
          "base_uri": "https://localhost:8080/"
        },
        "id": "PSMxIGMZLMo0",
        "outputId": "4f68b77b-f16a-46bf-b730-4bc9f1b0d756"
      },
      "execution_count": 32,
      "outputs": [
        {
          "name": "stdout",
          "output_type": "stream",
          "text": [
            "se deus não existe quem fez o mundo?\n"
          ]
        },
        {
          "output_type": "execute_result",
          "data": {
            "text/plain": [
              "[('cheat', 36), ('ch3at', 18), ('roubar', 15), ('hacker', 15), ('hack', 0)]"
            ]
          },
          "metadata": {},
          "execution_count": 32
        }
      ]
    },
    {
      "cell_type": "code",
      "source": [
        "def getMatch(field):\n",
        "  match_list = ['hack', 'cheat', 'roubar', 'h4ck', 'ch3at', 'hacker','h4ck3r']\n",
        "  search_list = process.extract(field, match_list)\n",
        "\n",
        "  result = []\n",
        "\n",
        "  for text in search_list:\n",
        "    if text[1] > 54:\n",
        "      result.append(text)\n",
        "  if len(result) == 0:\n",
        "    return 'Hacker? Não'\n",
        "  return 'Hacker? Sim'\n",
        "\n",
        "getMatch(input())"
      ],
      "metadata": {
        "id": "u40UdTd2Miux",
        "colab": {
          "base_uri": "https://localhost:8080/",
          "height": 53
        },
        "outputId": "3c1d99a7-00cd-4e8b-9b47-f3302220a86e"
      },
      "execution_count": 22,
      "outputs": [
        {
          "name": "stdout",
          "output_type": "stream",
          "text": [
            "como fazer pastel de frango\n"
          ]
        },
        {
          "output_type": "execute_result",
          "data": {
            "text/plain": [
              "'Hacker? Não'"
            ],
            "application/vnd.google.colaboratory.intrinsic+json": {
              "type": "string"
            }
          },
          "metadata": {},
          "execution_count": 22
        }
      ]
    },
    {
      "cell_type": "code",
      "source": [
        ""
      ],
      "metadata": {
        "id": "qaq5bRC2LiG3"
      },
      "execution_count": null,
      "outputs": []
    }
  ]
}