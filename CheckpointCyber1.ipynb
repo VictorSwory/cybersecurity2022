{
  "nbformat": 4,
  "nbformat_minor": 0,
  "metadata": {
    "colab": {
      "name": "CheckpointCyber1.ipynb",
      "provenance": [],
      "authorship_tag": "ABX9TyMa4VwqvR9e7PvUduzf5MxB",
      "include_colab_link": true
    },
    "kernelspec": {
      "name": "python3",
      "display_name": "Python 3"
    },
    "language_info": {
      "name": "python"
    }
  },
  "cells": [
    {
      "cell_type": "markdown",
      "metadata": {
        "id": "view-in-github",
        "colab_type": "text"
      },
      "source": [
        "<a href=\"https://colab.research.google.com/github/VictorSwory/cybersecurity2022/blob/main/CheckpointCyber1.ipynb\" target=\"_parent\"><img src=\"https://colab.research.google.com/assets/colab-badge.svg\" alt=\"Open In Colab\"/></a>"
      ]
    },
    {
      "cell_type": "code",
      "source": [
        "!pip install fuzzywuzzy[speedup]\n"
      ],
      "metadata": {
        "id": "MRPKget6Nd9B",
        "colab": {
          "base_uri": "https://localhost:8080/"
        },
        "outputId": "bbe39cdc-8410-49fc-d4ad-9ac3cb5461f4"
      },
      "execution_count": 1,
      "outputs": [
        {
          "output_type": "stream",
          "name": "stdout",
          "text": [
            "Collecting fuzzywuzzy[speedup]\n",
            "  Downloading fuzzywuzzy-0.18.0-py2.py3-none-any.whl (18 kB)\n",
            "Collecting python-levenshtein>=0.12\n",
            "  Downloading python-Levenshtein-0.12.2.tar.gz (50 kB)\n",
            "\u001b[K     |████████████████████████████████| 50 kB 2.1 MB/s \n",
            "\u001b[?25hRequirement already satisfied: setuptools in /usr/local/lib/python3.7/dist-packages (from python-levenshtein>=0.12->fuzzywuzzy[speedup]) (57.4.0)\n",
            "Building wheels for collected packages: python-levenshtein\n",
            "  Building wheel for python-levenshtein (setup.py) ... \u001b[?25l\u001b[?25hdone\n",
            "  Created wheel for python-levenshtein: filename=python_Levenshtein-0.12.2-cp37-cp37m-linux_x86_64.whl size=149869 sha256=90953005395b22c9b5e0c08f60559db4f28bcdb8b4d547df0259fde0e14b00bc\n",
            "  Stored in directory: /root/.cache/pip/wheels/05/5f/ca/7c4367734892581bb5ff896f15027a932c551080b2abd3e00d\n",
            "Successfully built python-levenshtein\n",
            "Installing collected packages: python-levenshtein, fuzzywuzzy\n",
            "Successfully installed fuzzywuzzy-0.18.0 python-levenshtein-0.12.2\n"
          ]
        }
      ]
    },
    {
      "cell_type": "code",
      "source": [
        "from fuzzywuzzy import process"
      ],
      "metadata": {
        "id": "ZjwAONObNhPZ"
      },
      "execution_count": 2,
      "outputs": []
    },
    {
      "cell_type": "code",
      "execution_count": null,
      "metadata": {
        "id": "fqyO0Kz90Kot"
      },
      "outputs": [],
      "source": [
        "import json\n",
        "import requests\n",
        "\n",
        "res = requests.get('https://victorswory.github.io/irl.json')\n",
        "res_terroristas = requests.get('https://cspinheiro.github.io/interpol.json')\n",
        "\n",
        "def getScoreTeste(field):\n",
        "  dict_irl = res.json()['irl']\n",
        "  for item in dict_irl:\n",
        "      for value in item.values():\n",
        "        if str(field) == str(value):\n",
        "          return 'Não pode entrar no país'\n",
        "  return 'Pode entrar no país'\n",
        "\n"
      ]
    },
    {
      "cell_type": "code",
      "source": [
        "irl = res.json()['irl']\n",
        "inter = res_terroristas.json()['interpol']\n",
        "\n",
        "lista_nomes=[]\n",
        "lista_passaporte=[]\n",
        "\n",
        "for i in irl:\n",
        "  lista_passaporte.append(i['irl'])\n",
        "\n",
        "for i in inter:\n",
        "  lista_nomes.append(i['interpol'])"
      ],
      "metadata": {
        "id": "b1vBszyNysh_"
      },
      "execution_count": null,
      "outputs": []
    },
    {
      "cell_type": "code",
      "source": [
        "getScoreTeste(lista_nomes)"
      ],
      "metadata": {
        "id": "VHDqbdl0w7N4"
      },
      "execution_count": null,
      "outputs": []
    },
    {
      "cell_type": "code",
      "source": [
        "import re\n",
        "for i in range(len(lista_nomes)):\n",
        "    x = re.split('\\s',lista_nomes[i])\n",
        "    if re.search(' $',lista_nomes[i]):\n",
        "        x = x[:-1]\n",
        "    lista_nomes[i] = x[0] + ' ' + x[(len(x)-1)]"
      ],
      "metadata": {
        "id": "oNZCot5wysdE"
      },
      "execution_count": null,
      "outputs": []
    },
    {
      "cell_type": "code",
      "source": [
        "def getMatch_pass(field,list):\n",
        "      search_list = process.extract(field,list)\n",
        "      result=[]\n",
        "      result2=[]\n",
        "\n",
        "      for text in search_list:\n",
        "          if text[1] > 90:\n",
        "            result2.append(text)\n",
        "          if text[1] > 50:\n",
        "            result.append(text)\n",
        "\n",
        "          if len(result2) > 0:\n",
        "              return 'Passaporte proibido!'\n",
        "          elif len(result) == 0:\n",
        "             return 'Passaporte liberado!'\n",
        "          return 'Passaporte suspeito!'"
      ],
      "metadata": {
        "id": "oJboE97kysXN"
      },
      "execution_count": null,
      "outputs": []
    },
    {
      "cell_type": "code",
      "source": [
        "!pip install -q streamlit"
      ],
      "metadata": {
        "id": "IeXqmmllU_p3"
      },
      "execution_count": null,
      "outputs": []
    },
    {
      "cell_type": "code",
      "source": [
        "!pip install -q streamlit_ace"
      ],
      "metadata": {
        "id": "V5VdFKl1VAdt"
      },
      "execution_count": null,
      "outputs": []
    },
    {
      "cell_type": "code",
      "source": [
        "!pip install -q pyngrok"
      ],
      "metadata": {
        "id": "aYdcM1JyVAa_"
      },
      "execution_count": null,
      "outputs": []
    },
    {
      "cell_type": "code",
      "source": [
        "%%writefile app.py\n",
        "import streamlit as st\n",
        "\n",
        "def main():\n",
        "\n",
        "  html_temp = \"\"\" <div style =\"background-color:red;padding:13px\">\n",
        "                    <h1 style = \"color:black;text-align:center;\">Web Passport</h1>\n",
        "                  </dic>\n",
        "              \"\"\"\n",
        "\n",
        "  st.markdown(html_temp, unsafe_allow_html = True)\n",
        "\n",
        "  input_passaporte = st.text_input('Passaporte')\n",
        "\n",
        "\n",
        "\n",
        "  out = getMatch_pass(input_passaporte,passaportes)\n",
        "  if st.button(\"Verificar\"):\n",
        "    st.success(out)\n",
        "\n",
        "  nome = st.text_input('Nome Completo')\n",
        "\n",
        "if __name__=='__main__':\n",
        "    main()"
      ],
      "metadata": {
        "id": "sq4b-XEMNFo9"
      },
      "execution_count": null,
      "outputs": []
    },
    {
      "cell_type": "code",
      "source": [
        "!streamlit run app.py & npx localtunnel --port 7771"
      ],
      "metadata": {
        "colab": {
          "base_uri": "https://localhost:8080/"
        },
        "id": "pHF1Gk8sVIdG",
        "outputId": "7b7b6c39-64cd-4d95-d84d-6529cd774e71"
      },
      "execution_count": null,
      "outputs": [
        {
          "output_type": "stream",
          "name": "stdout",
          "text": [
            "2022-05-04 18:28:46.692 INFO    numexpr.utils: NumExpr defaulting to 2 threads.\n",
            "\u001b[0m\n",
            "\u001b[34m\u001b[1m  You can now view your Streamlit app in your browser.\u001b[0m\n",
            "\u001b[0m\n",
            "\u001b[34m  Network URL: \u001b[0m\u001b[1mhttp://172.28.0.2:8501\u001b[0m\n",
            "\u001b[34m  External URL: \u001b[0m\u001b[1mhttp://35.231.124.113:8501\u001b[0m\n",
            "\u001b[0m\n",
            "\u001b[K\u001b[?25hnpx: installed 22 in 7.035s\n",
            "your url is: https://good-areas-enter-35-231-124-113.loca.lt\n"
          ]
        }
      ]
    },
    {
      "cell_type": "code",
      "source": [
        ""
      ],
      "metadata": {
        "id": "aKYds62vVNXR"
      },
      "execution_count": null,
      "outputs": []
    }
  ]
}